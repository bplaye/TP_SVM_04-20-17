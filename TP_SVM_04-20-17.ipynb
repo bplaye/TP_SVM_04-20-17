{
 "cells": [
  {
   "cell_type": "markdown",
   "metadata": {
    "deletable": true,
    "editable": true
   },
   "source": [
    "# 2017-04-20: Support Vector Machines\n",
    "*This page is the practical session of the [\"Support Vector Machines\"](http://members.cbio.mines-paristech.fr/~jvert/svn/kernelcourse/course/2014esmines/index.html) module taught by Jean-Philippe Vert (LIEN MAJ).* *The lecture slides can be found [here](http://members.cbio.mines-paristech.fr/~jvert/svn/kernelcourse/slides/kernel2h/kernel2h.pdf) (LIEN MAJ).*\n",
    "*This work is inspired from the SVM-lab of [Centrale course](http://cazencott.info/index.php/pages/MA-2823-Foundations-of-Machine-Learning-%28Fall-2016%29) taught by Chloé-Agathe Azencott *\n",
    "\n",
    "\n",
    "We will apply support vector classification methods to various datasets. \n",
    "\n",
    "Let us start, by setting up our environment."
   ]
  },
  {
   "cell_type": "code",
   "execution_count": 49,
   "metadata": {
    "collapsed": false,
    "deletable": true,
    "editable": true
   },
   "outputs": [],
   "source": [
    "%matplotlib inline\n",
    "import numpy as np\n",
    "import matplotlib.pyplot as plt"
   ]
  },
  {
   "cell_type": "markdown",
   "metadata": {
    "collapsed": true,
    "deletable": true,
    "editable": true
   },
   "source": [
    "## Linear case: separable case"
   ]
  },
  {
   "cell_type": "code",
   "execution_count": 86,
   "metadata": {
    "collapsed": false,
    "deletable": true,
    "editable": true
   },
   "outputs": [
    {
     "name": "stdout",
     "output_type": "stream",
     "text": [
      "((120, 3), (120, 2), (30, 2), (120,), (30,))\n",
      "(array([-1.,  1.]), array([-1.,  1.]))\n"
     ]
    }
   ],
   "source": [
    "# load the corresponding data\n",
    "\n",
    "X = np.loadtxt('data/linear_SVM:_separable_case/linear1_train.csv',\n",
    "               delimiter=',', skiprows=1, dtype=float)\n",
    "\n",
    "X_train = X[:,:-1]\n",
    "X_test = np.loadtxt('data/linear_SVM:_separable_case/linear1_test_input.csv',\n",
    "                    delimiter=',', skiprows=1)[:,:-1]\n",
    "Y_train = X[:,-1]\n",
    "Y_test = np.loadtxt('data/linear_SVM:_separable_case/linear1_test_output.csv',\n",
    "                    delimiter=',', skiprows=1).reshape(len(X_test))\n",
    "\n",
    "# verification\n",
    "print(X.shape, X_train.shape, X_test.shape, Y_train.shape, Y_test.shape)\n",
    "print(np.unique(Y_train), np.unique(Y_test))"
   ]
  },
  {
   "cell_type": "markdown",
   "metadata": {
    "deletable": true,
    "editable": true
   },
   "source": [
    "### Plot of the data"
   ]
  },
  {
   "cell_type": "code",
   "execution_count": 87,
   "metadata": {
    "collapsed": false,
    "deletable": true,
    "editable": true
   },
   "outputs": [
    {
     "data": {
      "image/png": "[encoded data removed]",
      "text/plain": [
       "<matplotlib.figure.Figure at 0x10908fe10>"
      ]
     },
     "metadata": {},
     "output_type": "display_data"
    }
   ],
   "source": [
    "## code\n",
    "def get_plot(X_train, X_test, Y_train):\n",
    "    fig = plt.figure(figsize=(6,6))\n",
    "    ax = fig.add_subplot(111)\n",
    "    ax.plot(X_train[Y_train==-1,0], X_train[Y_train==-1,1], 'or', label='train class 1')\n",
    "    ax.plot(X_train[Y_train==1,0], X_train[Y_train==1,1], 'og', label='train class -1')\n",
    "    ax.plot(X_test[:,0], X_test[:,1], 'Pk', label='test')\n",
    "    plt.legend(loc='best')\n",
    "get_plot(X_train, X_test, Y_train)"
   ]
  },
  {
   "cell_type": "markdown",
   "metadata": {
    "deletable": true,
    "editable": true
   },
   "source": [
    "### Linear SVM with default C value\n",
    "\n",
    "Let us fit an SVM with linear kernel (linear soft-margin SVM) with default C parameter."
   ]
  },
  {
   "cell_type": "code",
   "execution_count": 53,
   "metadata": {
    "collapsed": false,
    "deletable": true,
    "editable": true
   },
   "outputs": [],
   "source": [
    "from sklearn import svm\n",
    "\n",
    "clf = svm.SVC(kernel='linear') \n",
    "clf.fit(X_train,Y_train)\n",
    "Y_pred = clf.predict(X_test)"
   ]
  },
  {
   "cell_type": "markdown",
   "metadata": {
    "deletable": true,
    "editable": true
   },
   "source": [
    "**Question:** Compute the accuracy."
   ]
  },
  {
   "cell_type": "code",
   "execution_count": 54,
   "metadata": {
    "collapsed": false,
    "deletable": true,
    "editable": true
   },
   "outputs": [
    {
     "name": "stdout",
     "output_type": "stream",
     "text": [
      "1.0\n"
     ]
    }
   ],
   "source": [
    "from sklearn import metrics\n",
    "\n",
    "print(metrics.accuracy_score(Y_test, Y_pred))"
   ]
  },
  {
   "cell_type": "markdown",
   "metadata": {
    "deletable": true,
    "editable": true
   },
   "source": [
    "### Number of support vectors\n",
    "\n",
    "The `n_support_` argument of an svm classifier gives us the number of support vectors for each class.\n",
    "\n",
    "**Question:** How many support vectors does our classifier have? How many is this compared to the number of training samples?"
   ]
  },
  {
   "cell_type": "code",
   "execution_count": 55,
   "metadata": {
    "collapsed": false,
    "deletable": true,
    "editable": true
   },
   "outputs": [
    {
     "name": "stdout",
     "output_type": "stream",
     "text": [
      "[1 1]\n"
     ]
    }
   ],
   "source": [
    "##TO DO\n",
    "print(clf.n_support_)"
   ]
  },
  {
   "cell_type": "markdown",
   "metadata": {
    "deletable": true,
    "editable": true
   },
   "source": [
    "### Separating hyperplane\n",
    "\n",
    "Let us plot the separating hyperplan and visualize its support vectors."
   ]
  },
  {
   "cell_type": "code",
   "execution_count": 56,
   "metadata": {
    "collapsed": false,
    "deletable": true,
    "editable": true
   },
   "outputs": [],
   "source": [
    "def plot_data_with_hyperplane(X,Y,clf):\n",
    "    # get the separating hyperplane\n",
    "    w = clf.coef_[0]\n",
    "    a = -w[0] / w[1]\n",
    "    xx = np.linspace(-5, 5)\n",
    "    yy = a * xx - (clf.intercept_[0]) / w[1]\n",
    "\n",
    "    # plot the parallels to the separating hyperplane that pass through the\n",
    "    # support vectors\n",
    "    b = clf.support_vectors_[0]\n",
    "    yy_down = a * xx + (b[1] - a * b[0])\n",
    "    b = clf.support_vectors_[-1]\n",
    "    yy_up = a * xx + (b[1] - a * b[0])\n",
    "\n",
    "    # plot the line, the points, and the nearest vectors to the plane\n",
    "    plt.plot(xx, yy, 'k-')\n",
    "    plt.plot(xx, yy_down, 'k--')\n",
    "    plt.plot(xx, yy_up, 'k--')\n",
    "\n",
    "    plt.scatter(X[:, 0], X[:, 1], c=Y, cmap=plt.cm.Paired)\n",
    "    plt.scatter(clf.support_vectors_[:, 0], clf.support_vectors_[:, 1],\n",
    "                s=80, facecolors='none', edgecolors='k')\n",
    "\n",
    "    plt.axis('tight')\n",
    "    plt.show()"
   ]
  },
  {
   "cell_type": "code",
   "execution_count": 57,
   "metadata": {
    "collapsed": false,
    "deletable": true,
    "editable": true
   },
   "outputs": [
    {
     "data": {
      "image/png": "[encoded data removed]",
      "text/plain": [
       "<matplotlib.figure.Figure at 0x10951e310>"
      ]
     },
     "metadata": {},
     "output_type": "display_data"
    }
   ],
   "source": [
    "plot_data_with_hyperplane(X_train,Y_train,clf)"
   ]
  },
  {
   "cell_type": "markdown",
   "metadata": {
    "deletable": true,
    "editable": true
   },
   "source": [
    "## Linear SVM: non separable case"
   ]
  },
  {
   "cell_type": "code",
   "execution_count": 89,
   "metadata": {
    "collapsed": false,
    "deletable": true,
    "editable": true,
    "scrolled": true
   },
   "outputs": [],
   "source": [
    "# load the corresponding data\n",
    "X = np.loadtxt('data/linear_SVM:_non_separable_case/linear2_train.csv',\n",
    "               delimiter=',', skiprows=1)\n",
    "\n",
    "X_train = X[:,:-1]\n",
    "X_test = np.loadtxt('data/linear_SVM:_non_separable_case/linear2_test_input.csv',\n",
    "                    delimiter=',', skiprows=1)[:,:-1]\n",
    "Y_train = X[:,-1]\n",
    "Y_test = np.loadtxt('data/linear_SVM:_non_separable_case/linear2_test_output.csv',\n",
    "                    delimiter=',', skiprows=1).reshape(len(X_test))\n"
   ]
  },
  {
   "cell_type": "markdown",
   "metadata": {
    "deletable": true,
    "editable": true
   },
   "source": [
    "### Linear SVM with default C value\n",
    "\n",
    "Let us fit an SVM with linear kernel and default C parameter. Print the accuracy and plot the hyperplan."
   ]
  },
  {
   "cell_type": "code",
   "execution_count": 90,
   "metadata": {
    "collapsed": false,
    "deletable": true,
    "editable": true,
    "scrolled": false
   },
   "outputs": [
    {
     "data": {
      "image/png": "[encoded data removed]",
      "text/plain": [
       "<matplotlib.figure.Figure at 0x1092d2610>"
      ]
     },
     "metadata": {},
     "output_type": "display_data"
    }
   ],
   "source": [
    "get_plot(X_train, X_test, Y_train)"
   ]
  },
  {
   "cell_type": "code",
   "execution_count": 91,
   "metadata": {
    "collapsed": false
   },
   "outputs": [
    {
     "name": "stdout",
     "output_type": "stream",
     "text": [
      "0.67\n",
      "[106 107]\n"
     ]
    },
    {
     "data": {
      "image/png": "[encoded data removed]",
      "text/plain": [
       "<matplotlib.figure.Figure at 0x10a70ed90>"
      ]
     },
     "metadata": {},
     "output_type": "display_data"
    }
   ],
   "source": [
    "clf = svm.SVC(kernel='linear') \n",
    "clf.fit(X_train,Y_train)\n",
    "Y_pred = clf.predict(X_test)\n",
    "print(metrics.accuracy_score(Y_test, Y_pred))\n",
    "print(clf.n_support_)\n",
    "plot_data_with_hyperplane(X_train,Y_train,clf)"
   ]
  },
  {
   "cell_type": "markdown",
   "metadata": {
    "collapsed": true,
    "deletable": true,
    "editable": true
   },
   "source": [
    "**Question:** Comment the results."
   ]
  },
  {
   "cell_type": "markdown",
   "metadata": {},
   "source": []
  },
  {
   "cell_type": "markdown",
   "metadata": {
    "deletable": true,
    "editable": true
   },
   "source": [
    "### Linear SVM with cross-validated C value\n",
    "\n",
    "Let us cross-validate an SVM with linear kernel (linear soft-margin SVM) to find the optimal C parameter. By default `C=1.0`."
   ]
  },
  {
   "cell_type": "markdown",
   "metadata": {
    "deletable": true,
    "editable": true
   },
   "source": [
    "**Question:** Complete the following cross-validation function. You can use `np.random.shuffle` function and smart indexation to write `get_cv_fold`."
   ]
  },
  {
   "cell_type": "code",
   "execution_count": 92,
   "metadata": {
    "collapsed": true
   },
   "outputs": [],
   "source": [
    "def get_cv_fold(labels, n_folds):\n",
    "    \"\"\"\n",
    "    cv_fold is a list of n_folds pairs of list of indices, first element of \n",
    "        the pair is the indices of the train test indices and second the\n",
    "        indices for the test set\n",
    "    \"\"\"\n",
    "    # TODO (je remplis pour que tu puisses dire si ça te va)\n",
    "    cv_folds = list()\n",
    "    n_samples = len(labels)\n",
    "    fold_indices = range(n_samples)\n",
    "    np.random.shuffle(fold_indices)\n",
    "    len_fold = int(np.round(n_samples/float(n_folds)))\n",
    "    for i in range(n_folds-1):\n",
    "        test_set = fold_indices[i*len_fold:(i+1)*len_fold]\n",
    "        train_set = [ind for ind in fold_indices if ind not in test_set]\n",
    "        cv_folds.append([train_set, test_set])\n",
    "    last_test_set = fold_indices[(i+1)*len_fold:]\n",
    "    last_train_set = fold_indices[:(i+1)*len_fold]\n",
    "    cv_folds.append([last_train_set, last_test_set])\n",
    "    return cv_folds"
   ]
  },
  {
   "cell_type": "markdown",
   "metadata": {},
   "source": [
    "Before going further, check carefully your cross-validation"
   ]
  },
  {
   "cell_type": "code",
   "execution_count": null,
   "metadata": {
    "collapsed": true
   },
   "outputs": [],
   "source": [
    "# test your get_cv_fold function to see if it works\n",
    "cc = get_cv_fold(Y_train, 9)\n",
    "for tr, te in cc: print(len(tr), len(te))\n",
    "    \n",
    "cc = get_cv_fold(Y_train, 10)\n",
    "for tr, te in cc: print(len(tr), len(te))\n",
    "    \n",
    "# check that each sample is in the test set only once. Use Y_test (smaller)\n",
    "# TODO"
   ]
  },
  {
   "cell_type": "markdown",
   "metadata": {},
   "source": [
    "Now let's get to the complete cross-validation pipeline"
   ]
  },
  {
   "cell_type": "code",
   "execution_count": 93,
   "metadata": {
    "collapsed": true,
    "deletable": true,
    "editable": true
   },
   "outputs": [],
   "source": [
    "def cross_validate(design_matrix, labels, classifier, cv_folds):\n",
    "    \"\"\" Perform a cross-validation and returns, for each data point x, \n",
    "    the value of the decision function f computed when x was part of the test set. \n",
    "   \n",
    "    Parameters:\n",
    "    -----------\n",
    "    design_matrix: (n_samples, n_features) np.array\n",
    "        Design matrix for the experiment.\n",
    "    labels: (n_samples, ) np.array\n",
    "        Vector of labels.\n",
    "    classifier:  sklearn classifier object\n",
    "        Classifier instance; must have the following methods:\n",
    "        - fit(X, y) to train the classifier on the data X, y\n",
    "        - decision_function(X) to apply the trained classifier to the data X \n",
    "        and return probability estimates \n",
    "    cv_folds: iterable element that split the data for cross-validation.\n",
    "        \n",
    "    Return:\n",
    "    -------\n",
    "    pred: (n_samples, ) np.array\n",
    "        Vectors of predictions (same order as labels).\n",
    "    \"\"\"\n",
    "    pred = np.zeros(labels.shape) # Hold all predictions, in correct order.\n",
    "    \n",
    "    \n",
    "            \n",
    "        \n",
    "    for tr, te in cv_folds:\n",
    "        # Restrict data to train/test folds\n",
    "        Xtr = design_matrix[tr, :]\n",
    "        ytr = labels[tr]\n",
    "        Xte = design_matrix[te, :]\n",
    "        \n",
    "        # Fit classifier\n",
    "        classifier.fit(Xtr, ytr)\n",
    "\n",
    "        # Compute decision function on test data\n",
    "        # TODO \n",
    "        tmp_y_pred = classifier.predict(Xte)\n",
    "        \n",
    "        \n",
    "        # Update pred \n",
    "        # TODO \n",
    "        pred[te] = tmp_y_pred\n",
    "        \n",
    "    return pred"
   ]
  },
  {
   "cell_type": "markdown",
   "metadata": {
    "deletable": true,
    "editable": true
   },
   "source": [
    "Let us find the optimal C parameter via cross-validation"
   ]
  },
  {
   "cell_type": "code",
   "execution_count": 99,
   "metadata": {
    "collapsed": false,
    "deletable": true,
    "editable": true
   },
   "outputs": [
    {
     "name": "stdout",
     "output_type": "stream",
     "text": [
      "(0.68000000000000005, 0.001)\n",
      "(0.67000000000000004, 0.003)\n",
      "(0.66000000000000003, 0.01)\n",
      "(0.66000000000000003, 0.03)\n",
      "(0.66000000000000003, 0.1)\n",
      "(0.67000000000000004, 0.3)\n",
      "(0.67000000000000004, 1)\n",
      "(0.67000000000000004, 3)\n",
      "(0.67000000000000004, 10)\n",
      "(0.67000000000000004, 30)\n",
      "(0.67000000000000004, 100)\n",
      "(0.67000000000000004, 300)\n",
      "(0.67000000000000004, 1000)\n",
      "(0.67000000000000004, 10000)\n",
      "[0.71250000000000002, 0.76249999999999996, 0.76249999999999996, 0.76249999999999996, 0.76500000000000001, 0.76249999999999996, 0.76749999999999996, 0.76749999999999996, 0.76500000000000001, 0.76500000000000001, 0.76500000000000001, 0.76500000000000001, 0.76500000000000001, 0.76500000000000001]\n"
     ]
    }
   ],
   "source": [
    "C_list = [0.001, 0.003, 0.01, 0.03, 0.1, 0.3, 1, 3, 10, 30, 100, 300, 1000, 10000]\n",
    "acc_list = list()\n",
    "cv_folds = get_cv_fold(Y_train, 50)\n",
    "for C in C_list:\n",
    "    clf = svm.SVC(C=C, kernel='linear') \n",
    "    Y_pred = cross_validate(X_train, Y_train, clf, cv_folds)\n",
    "    acc_list.append(metrics.accuracy_score(Y_train, Y_pred))\n",
    "    clf = svm.SVC(C=C, kernel='linear')\n",
    "    clf.fit(X_train, Y_train)\n",
    "    Y_pred = clf.predict(X_test)\n",
    "    print(metrics.accuracy_score(Y_test, Y_pred), C)\n",
    "    \n",
    "\n",
    "print(acc_list)"
   ]
  },
  {
   "cell_type": "markdown",
   "metadata": {
    "deletable": true,
    "editable": true
   },
   "source": [
    "**Question:** print the accuracy and plot the data with the hyperplance corresponding to the fitted SVM and compare with those of SVM with default C value"
   ]
  },
  {
   "cell_type": "code",
   "execution_count": null,
   "metadata": {
    "collapsed": false,
    "deletable": true,
    "editable": true
   },
   "outputs": [],
   "source": [
    "## code avec des TODO"
   ]
  },
  {
   "cell_type": "markdown",
   "metadata": {
    "deletable": true,
    "editable": true
   },
   "source": [
    "### Linear SVM with cross-validated C value (Bonus)\n",
    "\n",
    "The cross-validation we have is a bit too simple. What happens if we ask for 50 folds, and there are only 40 points with label \"1\" in the train data? what happens if we ask 40 folds with 40 points with label \"1\"? \n",
    "\n",
    "What we have tried to do (find optimal C by trying a lot of values for C and evaluate performance by cross-validation on the train set is called \"grid-search cross-validation\" and there is a function for it in `scikit-learn`. Look into the [doc](http://scikit-learn.org/stable/modules/generated/sklearn.model_selection.GridSearchCV.html) and try to get the same result as before."
   ]
  },
  {
   "cell_type": "code",
   "execution_count": null,
   "metadata": {
    "collapsed": true,
    "deletable": true,
    "editable": true
   },
   "outputs": [],
   "source": [
    "## code avec TODO\n"
   ]
  },
  {
   "cell_type": "markdown",
   "metadata": {
    "deletable": true,
    "editable": true
   },
   "source": [
    "## Non linear case"
   ]
  },
  {
   "cell_type": "code",
   "execution_count": null,
   "metadata": {
    "collapsed": false,
    "deletable": true,
    "editable": true
   },
   "outputs": [],
   "source": [
    "# load the corresponding data\n",
    "X_train = \n",
    "X_test = \n",
    "Y_train =\n",
    "Y_test = "
   ]
  },
  {
   "cell_type": "markdown",
   "metadata": {
    "deletable": true,
    "editable": true
   },
   "source": [
    "### Plot of the data"
   ]
  },
  {
   "cell_type": "code",
   "execution_count": null,
   "metadata": {
    "collapsed": true,
    "deletable": true,
    "editable": true
   },
   "outputs": [],
   "source": [
    "## code\n"
   ]
  },
  {
   "cell_type": "markdown",
   "metadata": {
    "deletable": true,
    "editable": true
   },
   "source": [
    "### Testing different kernels"
   ]
  },
  {
   "cell_type": "markdown",
   "metadata": {
    "deletable": true,
    "editable": true
   },
   "source": [
    "demander à tester différent kernel en utilisant C manuellement (pour voir l'effet de C sur le separating hyperplane) puis print accuracy avec un C optimisé par crossCV"
   ]
  },
  {
   "cell_type": "code",
   "execution_count": null,
   "metadata": {
    "collapsed": true,
    "deletable": true,
    "editable": true
   },
   "outputs": [],
   "source": []
  },
  {
   "cell_type": "markdown",
   "metadata": {
    "deletable": true,
    "editable": true
   },
   "source": [
    "## A real case: The endometrium vs uterus cancer data\n",
    "\n",
    "For this lab and many of the coming ones, we will work with gene expression data measured on endometrium and ovary tumors. The data originally comes from http://gemler.fzv.uni-mb.si/index.php but has been downsized so that it is easier to work with in our labs.\n",
    "\n",
    "The data we will work with contains the expression of 3,000 genes, measured for 61 endometrium tumors and 123 uterus tumors.\n",
    "\n",
    "Expliquer l'origine des données etc"
   ]
  },
  {
   "cell_type": "markdown",
   "metadata": {
    "collapsed": false,
    "deletable": true,
    "editable": true
   },
   "source": [
    "### Loading the data\n",
    "The data is stored in a CSV file, `small_Endometrium_Uterus.csv`. Many utilities can be used to read CSV files, including the `csv` module and the `pandas` module (that is meant for data mining). We will focus on using numpy directly.\n",
    "\n",
    "A quick look at the file shows us that\n",
    "* its first line is a header\n",
    "* each of its lines is a tumor sample. \n",
    "* the first column of each line is the tumor sample's ID\n",
    "* the last column of each line is the type of tissue (Endometrium or Uterus)\n",
    "* all columns in between give the expression of one gene."
   ]
  },
  {
   "cell_type": "code",
   "execution_count": null,
   "metadata": {
    "collapsed": false,
    "deletable": true,
    "editable": true
   },
   "outputs": [],
   "source": [
    "# Load the gene expression data\n",
    "X = np.loadtxt('data/real_case/small_Endometrium_Uterus.csv',  delimiter=',', \n",
    "               skiprows=1, usecols=range(1, 3001))\n",
    "\n",
    "# Load the labels (Python 2)\n",
    "y = np.loadtxt('data/real_case/small_Endometrium_Uterus.csv', delimiter=',', \n",
    "               skiprows=1, usecols=[3001], dtype='string')\n",
    "\n",
    "# Python 3 alternative:\n",
    "#y = np.loadtxt('data/small_Endometrium_Uterus.csv', delimiter=',', \n",
    "#               skiprows=1, usecols=[3001], dtype='bytes').astype('str')\n",
    "\n",
    "# Convert 'Endometrium' to 0 and 'Uterus' to 1\n",
    "y = np.where(y=='Endometrium', 0, 1)\n",
    "print(y)"
   ]
  },
  {
   "cell_type": "markdown",
   "metadata": {
    "deletable": true,
    "editable": true
   },
   "source": [
    "### Plot of the data by pca (??)"
   ]
  },
  {
   "cell_type": "code",
   "execution_count": null,
   "metadata": {
    "collapsed": true,
    "deletable": true,
    "editable": true
   },
   "outputs": [],
   "source": [
    "## code\n"
   ]
  },
  {
   "cell_type": "markdown",
   "metadata": {
    "deletable": true,
    "editable": true
   },
   "source": [
    "Expliquer en quoi consister scaler ou normaliser les données et parler de son interêt\n",
    "\n",
    "**Question:** Complete the following cross-validation function"
   ]
  },
  {
   "cell_type": "code",
   "execution_count": null,
   "metadata": {
    "collapsed": true,
    "deletable": true,
    "editable": true
   },
   "outputs": [],
   "source": [
    "## code"
   ]
  },
  {
   "cell_type": "markdown",
   "metadata": {
    "deletable": true,
    "editable": true
   },
   "source": [
    "### Optimize an SVM approach"
   ]
  },
  {
   "cell_type": "markdown",
   "metadata": {
    "deletable": true,
    "editable": true
   },
   "source": [
    "à eux de jouer blabla"
   ]
  },
  {
   "cell_type": "code",
   "execution_count": null,
   "metadata": {
    "collapsed": true,
    "deletable": true,
    "editable": true
   },
   "outputs": [],
   "source": []
  }
 ],
 "metadata": {
  "celltoolbar": "Raw Cell Format",
  "kernelspec": {
   "display_name": "Python 2",
   "language": "python",
   "name": "python2"
  },
  "language_info": {
   "codemirror_mode": {
    "name": "ipython",
    "version": 2
   },
   "file_extension": ".py",
   "mimetype": "text/x-python",
   "name": "python",
   "nbconvert_exporter": "python",
   "pygments_lexer": "ipython2",
   "version": "2.7.13"
  }
 },
 "nbformat": 4,
 "nbformat_minor": 2
}
